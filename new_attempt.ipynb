{
 "cells": [
  {
   "cell_type": "code",
   "execution_count": 32,
   "id": "cc3a408a",
   "metadata": {},
   "outputs": [],
   "source": [
    "# utilities\n",
    "# Importing the Libraries \n",
    "import re  # for pattern matching and manipulation of strings.\n",
    "import numpy as np  # used for numerical computations and data manipulation.\n",
    "import pandas as pd  # for data manipulation and analysis.\n",
    "import string  # for string manipulation tasks.\n",
    "\n",
    "# Remove duplicates but keep the first occurence of the text\n",
    "# For plotting\n",
    "import seaborn as sns  # for data visualization.\n",
    "from wordcloud import WordCloud  # used to generate word clouds.\n",
    "import matplotlib.pyplot as plt  # used for plotting data.\n",
    "\n",
    "# nltk\n",
    "from nltk.stem import WordNetLemmatizer  # used for lemmatizing words\n",
    "from nltk.tokenize import TreebankWordTokenizer  # used for tokenizing sentences into words.\n",
    "from nltk import SnowballStemmer  # used for stemming words.\n",
    "\n",
    "# sklearn\n",
    "from sklearn.svm import LinearSVC  # used for solving linear classification problems. \n",
    "from sklearn.naive_bayes import BernoulliNB  # implementation of the Naive Bayes algorithm.\n",
    "from sklearn.linear_model import LogisticRegression  # implementation of logistic regression.  \n",
    "from sklearn.model_selection import train_test_split  # for splitting a dataset into training and testing subsets.\n",
    "from sklearn.feature_extraction.text import CountVectorizer  # for converting text documents into a numerical representation.\n",
    "from sklearn.metrics import confusion_matrix, classification_report  # for evaluating the performance of a classification model\n",
    "from sklearn.ensemble import VotingClassifier, RandomForestClassifier\n",
    "from sklearn import preprocessing  # for data preprocessing\n",
    "from sklearn.utils import resample\n",
    "from sklearn.model_selection import GridSearchCV\n",
    "import timeit\n",
    "from sklearn.metrics import accuracy_score\n",
    "# suppress cell warnings\n",
    "import warnings\n",
    "warnings.filterwarnings(\"ignore\")"
   ]
  },
  {
   "cell_type": "code",
   "execution_count": 3,
   "id": "cfee790e",
   "metadata": {},
   "outputs": [],
   "source": [
    "df = pd.read_csv(\"train_set.csv\") # reads a CSV file named \"train.csv\" and stores it in Pandas df.\n",
    "df_test = pd.read_csv(\"test_set.csv\") # reads \"test_with_no_labels.csv\" and stores it in Pandas df_test."
   ]
  },
  {
   "cell_type": "code",
   "execution_count": 4,
   "id": "40b7842c",
   "metadata": {},
   "outputs": [
    {
     "data": {
      "text/html": [
       "<div>\n",
       "<style scoped>\n",
       "    .dataframe tbody tr th:only-of-type {\n",
       "        vertical-align: middle;\n",
       "    }\n",
       "\n",
       "    .dataframe tbody tr th {\n",
       "        vertical-align: top;\n",
       "    }\n",
       "\n",
       "    .dataframe thead th {\n",
       "        text-align: right;\n",
       "    }\n",
       "</style>\n",
       "<table border=\"1\" class=\"dataframe\">\n",
       "  <thead>\n",
       "    <tr style=\"text-align: right;\">\n",
       "      <th></th>\n",
       "      <th>lang_id</th>\n",
       "      <th>text</th>\n",
       "    </tr>\n",
       "  </thead>\n",
       "  <tbody>\n",
       "    <tr>\n",
       "      <th>0</th>\n",
       "      <td>xho</td>\n",
       "      <td>umgaqo-siseko wenza amalungiselelo kumaziko ax...</td>\n",
       "    </tr>\n",
       "    <tr>\n",
       "      <th>1</th>\n",
       "      <td>xho</td>\n",
       "      <td>i-dha iya kuba nobulumko bokubeka umsebenzi na...</td>\n",
       "    </tr>\n",
       "    <tr>\n",
       "      <th>2</th>\n",
       "      <td>eng</td>\n",
       "      <td>the province of kwazulu-natal department of tr...</td>\n",
       "    </tr>\n",
       "    <tr>\n",
       "      <th>3</th>\n",
       "      <td>nso</td>\n",
       "      <td>o netefatša gore o ba file dilo ka moka tše le...</td>\n",
       "    </tr>\n",
       "    <tr>\n",
       "      <th>4</th>\n",
       "      <td>ven</td>\n",
       "      <td>khomishini ya ndinganyiso ya mbeu yo ewa maana...</td>\n",
       "    </tr>\n",
       "  </tbody>\n",
       "</table>\n",
       "</div>"
      ],
      "text/plain": [
       "  lang_id                                               text\n",
       "0     xho  umgaqo-siseko wenza amalungiselelo kumaziko ax...\n",
       "1     xho  i-dha iya kuba nobulumko bokubeka umsebenzi na...\n",
       "2     eng  the province of kwazulu-natal department of tr...\n",
       "3     nso  o netefatša gore o ba file dilo ka moka tše le...\n",
       "4     ven  khomishini ya ndinganyiso ya mbeu yo ewa maana..."
      ]
     },
     "execution_count": 4,
     "metadata": {},
     "output_type": "execute_result"
    }
   ],
   "source": [
    "df.head() #taking a view"
   ]
  },
  {
   "cell_type": "code",
   "execution_count": 5,
   "id": "892cb82f",
   "metadata": {},
   "outputs": [
    {
     "data": {
      "text/html": [
       "<div>\n",
       "<style scoped>\n",
       "    .dataframe tbody tr th:only-of-type {\n",
       "        vertical-align: middle;\n",
       "    }\n",
       "\n",
       "    .dataframe tbody tr th {\n",
       "        vertical-align: top;\n",
       "    }\n",
       "\n",
       "    .dataframe thead th {\n",
       "        text-align: right;\n",
       "    }\n",
       "</style>\n",
       "<table border=\"1\" class=\"dataframe\">\n",
       "  <thead>\n",
       "    <tr style=\"text-align: right;\">\n",
       "      <th></th>\n",
       "      <th>index</th>\n",
       "      <th>text</th>\n",
       "    </tr>\n",
       "  </thead>\n",
       "  <tbody>\n",
       "    <tr>\n",
       "      <th>0</th>\n",
       "      <td>1</td>\n",
       "      <td>Mmasepala, fa maemo a a kgethegileng a letlele...</td>\n",
       "    </tr>\n",
       "    <tr>\n",
       "      <th>1</th>\n",
       "      <td>2</td>\n",
       "      <td>Uzakwaziswa ngokufaneleko nakungafuneka eminye...</td>\n",
       "    </tr>\n",
       "    <tr>\n",
       "      <th>2</th>\n",
       "      <td>3</td>\n",
       "      <td>Tshivhumbeo tshi fana na ngano dza vhathu.</td>\n",
       "    </tr>\n",
       "    <tr>\n",
       "      <th>3</th>\n",
       "      <td>4</td>\n",
       "      <td>Kube inja nelikati betingevakala kutsi titsini...</td>\n",
       "    </tr>\n",
       "    <tr>\n",
       "      <th>4</th>\n",
       "      <td>5</td>\n",
       "      <td>Winste op buitelandse valuta.</td>\n",
       "    </tr>\n",
       "  </tbody>\n",
       "</table>\n",
       "</div>"
      ],
      "text/plain": [
       "   index                                               text\n",
       "0      1  Mmasepala, fa maemo a a kgethegileng a letlele...\n",
       "1      2  Uzakwaziswa ngokufaneleko nakungafuneka eminye...\n",
       "2      3         Tshivhumbeo tshi fana na ngano dza vhathu.\n",
       "3      4  Kube inja nelikati betingevakala kutsi titsini...\n",
       "4      5                      Winste op buitelandse valuta."
      ]
     },
     "execution_count": 5,
     "metadata": {},
     "output_type": "execute_result"
    }
   ],
   "source": [
    "df_test.head() #taking a look"
   ]
  },
  {
   "cell_type": "code",
   "execution_count": 6,
   "id": "b731a8b3",
   "metadata": {},
   "outputs": [
    {
     "name": "stdout",
     "output_type": "stream",
     "text": [
      "<class 'pandas.core.frame.DataFrame'>\n",
      "RangeIndex: 33000 entries, 0 to 32999\n",
      "Data columns (total 2 columns):\n",
      " #   Column   Non-Null Count  Dtype \n",
      "---  ------   --------------  ----- \n",
      " 0   lang_id  33000 non-null  object\n",
      " 1   text     33000 non-null  object\n",
      "dtypes: object(2)\n",
      "memory usage: 515.8+ KB\n"
     ]
    }
   ],
   "source": [
    "df.info()"
   ]
  },
  {
   "cell_type": "code",
   "execution_count": 7,
   "id": "b5e5e1cd",
   "metadata": {},
   "outputs": [
    {
     "name": "stdout",
     "output_type": "stream",
     "text": [
      "<class 'pandas.core.frame.DataFrame'>\n",
      "RangeIndex: 5682 entries, 0 to 5681\n",
      "Data columns (total 2 columns):\n",
      " #   Column  Non-Null Count  Dtype \n",
      "---  ------  --------------  ----- \n",
      " 0   index   5682 non-null   int64 \n",
      " 1   text    5682 non-null   object\n",
      "dtypes: int64(1), object(1)\n",
      "memory usage: 88.9+ KB\n"
     ]
    }
   ],
   "source": [
    "df_test.info()"
   ]
  },
  {
   "cell_type": "code",
   "execution_count": 8,
   "id": "9185b508",
   "metadata": {},
   "outputs": [
    {
     "data": {
      "text/plain": [
       "0"
      ]
     },
     "execution_count": 8,
     "metadata": {},
     "output_type": "execute_result"
    }
   ],
   "source": [
    "np.sum(df.isnull().any(axis=1))"
   ]
  },
  {
   "cell_type": "code",
   "execution_count": 10,
   "id": "7337b4a2",
   "metadata": {},
   "outputs": [
    {
     "data": {
      "text/plain": [
       "3052"
      ]
     },
     "execution_count": 10,
     "metadata": {},
     "output_type": "execute_result"
    }
   ],
   "source": [
    "#Removed duplicates\n",
    "#Check for duplicates in the data\n",
    "df.duplicated().sum()\n",
    "\n",
    "# Remove duplicates but keep the first occurence of the text"
   ]
  },
  {
   "cell_type": "code",
   "execution_count": 11,
   "id": "b538d19a",
   "metadata": {},
   "outputs": [
    {
     "data": {
      "text/plain": [
       "0"
      ]
     },
     "execution_count": 11,
     "metadata": {},
     "output_type": "execute_result"
    }
   ],
   "source": [
    "dft = df.copy() #Making a copy of the data to avoid modifying the original\n",
    "\n",
    "dft = df.drop_duplicates(keep='first')\n",
    "dft.duplicated().sum()"
   ]
  },
  {
   "cell_type": "code",
   "execution_count": 28,
   "id": "3661e47d",
   "metadata": {},
   "outputs": [
    {
     "data": {
      "text/plain": [
       "0"
      ]
     },
     "execution_count": 28,
     "metadata": {},
     "output_type": "execute_result"
    }
   ],
   "source": [
    "np.sum(df_test.isnull().any(axis=1))"
   ]
  },
  {
   "cell_type": "code",
   "execution_count": 29,
   "id": "79eca22a",
   "metadata": {},
   "outputs": [
    {
     "data": {
      "text/plain": [
       "0"
      ]
     },
     "execution_count": 29,
     "metadata": {},
     "output_type": "execute_result"
    }
   ],
   "source": [
    "df_test.duplicated().sum()"
   ]
  },
  {
   "cell_type": "code",
   "execution_count": 30,
   "id": "56ec14ec",
   "metadata": {},
   "outputs": [
    {
     "data": {
      "text/html": [
       "<div>\n",
       "<style scoped>\n",
       "    .dataframe tbody tr th:only-of-type {\n",
       "        vertical-align: middle;\n",
       "    }\n",
       "\n",
       "    .dataframe tbody tr th {\n",
       "        vertical-align: top;\n",
       "    }\n",
       "\n",
       "    .dataframe thead th {\n",
       "        text-align: right;\n",
       "    }\n",
       "</style>\n",
       "<table border=\"1\" class=\"dataframe\">\n",
       "  <thead>\n",
       "    <tr style=\"text-align: right;\">\n",
       "      <th></th>\n",
       "      <th>index</th>\n",
       "      <th>text</th>\n",
       "      <th>clean_text</th>\n",
       "    </tr>\n",
       "  </thead>\n",
       "  <tbody>\n",
       "    <tr>\n",
       "      <th>0</th>\n",
       "      <td>1</td>\n",
       "      <td>mmasepala, fa maemo a a kgethegileng a letlele...</td>\n",
       "      <td>mmasepala fa maemo a a kgethegileng a letlelel...</td>\n",
       "    </tr>\n",
       "    <tr>\n",
       "      <th>1</th>\n",
       "      <td>2</td>\n",
       "      <td>uzakwaziswa ngokufaneleko nakungafuneka eminye...</td>\n",
       "      <td>uzakwaziswa ngokufaneleko nakungafuneka eminye...</td>\n",
       "    </tr>\n",
       "    <tr>\n",
       "      <th>2</th>\n",
       "      <td>3</td>\n",
       "      <td>tshivhumbeo tshi fana na ngano dza vhathu.</td>\n",
       "      <td>tshivhumbeo tshi fana na ngano dza vhathu</td>\n",
       "    </tr>\n",
       "    <tr>\n",
       "      <th>3</th>\n",
       "      <td>4</td>\n",
       "      <td>kube inja nelikati betingevakala kutsi titsini...</td>\n",
       "      <td>kube inja nelikati betingevakala kutsi titsini...</td>\n",
       "    </tr>\n",
       "    <tr>\n",
       "      <th>4</th>\n",
       "      <td>5</td>\n",
       "      <td>winste op buitelandse valuta.</td>\n",
       "      <td>winste op buitelandse valuta</td>\n",
       "    </tr>\n",
       "  </tbody>\n",
       "</table>\n",
       "</div>"
      ],
      "text/plain": [
       "   index                                               text  \\\n",
       "0      1  mmasepala, fa maemo a a kgethegileng a letlele...   \n",
       "1      2  uzakwaziswa ngokufaneleko nakungafuneka eminye...   \n",
       "2      3         tshivhumbeo tshi fana na ngano dza vhathu.   \n",
       "3      4  kube inja nelikati betingevakala kutsi titsini...   \n",
       "4      5                      winste op buitelandse valuta.   \n",
       "\n",
       "                                          clean_text  \n",
       "0  mmasepala fa maemo a a kgethegileng a letlelel...  \n",
       "1  uzakwaziswa ngokufaneleko nakungafuneka eminye...  \n",
       "2          tshivhumbeo tshi fana na ngano dza vhathu  \n",
       "3  kube inja nelikati betingevakala kutsi titsini...  \n",
       "4                       winste op buitelandse valuta  "
      ]
     },
     "execution_count": 30,
     "metadata": {},
     "output_type": "execute_result"
    }
   ],
   "source": [
    "def clean_text(text):\n",
    "    text = re.sub(r'[^\\w\\s]', '', text)  # Remove punctuations\n",
    "    text = re.sub(r'([^\\s\\w“”]|_)+', '', text) # Remove non-alphanumeric characters \n",
    "    text = ' '.join(text.split()) # Remove whitespace\n",
    "    \n",
    "    return text.strip()\n",
    "\n",
    "df_test['clean_text'] = df_test['text'].apply(clean_text)\n",
    "df_test.head()"
   ]
  },
  {
   "cell_type": "code",
   "execution_count": 12,
   "id": "f36639ed",
   "metadata": {},
   "outputs": [
    {
     "data": {
      "text/plain": [
       "lang_id    object\n",
       "text       object\n",
       "dtype: object"
      ]
     },
     "execution_count": 12,
     "metadata": {},
     "output_type": "execute_result"
    }
   ],
   "source": [
    "dft.dtypes"
   ]
  },
  {
   "cell_type": "code",
   "execution_count": 13,
   "id": "3c7c6108",
   "metadata": {},
   "outputs": [
    {
     "data": {
      "text/html": [
       "<div>\n",
       "<style scoped>\n",
       "    .dataframe tbody tr th:only-of-type {\n",
       "        vertical-align: middle;\n",
       "    }\n",
       "\n",
       "    .dataframe tbody tr th {\n",
       "        vertical-align: top;\n",
       "    }\n",
       "\n",
       "    .dataframe thead th {\n",
       "        text-align: right;\n",
       "    }\n",
       "</style>\n",
       "<table border=\"1\" class=\"dataframe\">\n",
       "  <thead>\n",
       "    <tr style=\"text-align: right;\">\n",
       "      <th></th>\n",
       "      <th>lang_id</th>\n",
       "      <th>text</th>\n",
       "      <th>clean_text</th>\n",
       "    </tr>\n",
       "  </thead>\n",
       "  <tbody>\n",
       "    <tr>\n",
       "      <th>0</th>\n",
       "      <td>xho</td>\n",
       "      <td>umgaqo-siseko wenza amalungiselelo kumaziko ax...</td>\n",
       "      <td>umgaqosiseko wenza amalungiselelo kumaziko axh...</td>\n",
       "    </tr>\n",
       "    <tr>\n",
       "      <th>1</th>\n",
       "      <td>xho</td>\n",
       "      <td>i-dha iya kuba nobulumko bokubeka umsebenzi na...</td>\n",
       "      <td>idha iya kuba nobulumko bokubeka umsebenzi nap...</td>\n",
       "    </tr>\n",
       "    <tr>\n",
       "      <th>2</th>\n",
       "      <td>eng</td>\n",
       "      <td>the province of kwazulu-natal department of tr...</td>\n",
       "      <td>the province of kwazulunatal department of tra...</td>\n",
       "    </tr>\n",
       "    <tr>\n",
       "      <th>3</th>\n",
       "      <td>nso</td>\n",
       "      <td>o netefatša gore o ba file dilo ka moka tše le...</td>\n",
       "      <td>o netefatša gore o ba file dilo ka moka tše le...</td>\n",
       "    </tr>\n",
       "    <tr>\n",
       "      <th>4</th>\n",
       "      <td>ven</td>\n",
       "      <td>khomishini ya ndinganyiso ya mbeu yo ewa maana...</td>\n",
       "      <td>khomishini ya ndinganyiso ya mbeu yo ewa maana...</td>\n",
       "    </tr>\n",
       "  </tbody>\n",
       "</table>\n",
       "</div>"
      ],
      "text/plain": [
       "  lang_id                                               text  \\\n",
       "0     xho  umgaqo-siseko wenza amalungiselelo kumaziko ax...   \n",
       "1     xho  i-dha iya kuba nobulumko bokubeka umsebenzi na...   \n",
       "2     eng  the province of kwazulu-natal department of tr...   \n",
       "3     nso  o netefatša gore o ba file dilo ka moka tše le...   \n",
       "4     ven  khomishini ya ndinganyiso ya mbeu yo ewa maana...   \n",
       "\n",
       "                                          clean_text  \n",
       "0  umgaqosiseko wenza amalungiselelo kumaziko axh...  \n",
       "1  idha iya kuba nobulumko bokubeka umsebenzi nap...  \n",
       "2  the province of kwazulunatal department of tra...  \n",
       "3  o netefatša gore o ba file dilo ka moka tše le...  \n",
       "4  khomishini ya ndinganyiso ya mbeu yo ewa maana...  "
      ]
     },
     "execution_count": 13,
     "metadata": {},
     "output_type": "execute_result"
    }
   ],
   "source": [
    "def clean_text(text):\n",
    "    text = re.sub(r'[^\\w\\s]', '', text)  # Remove punctuations\n",
    "    text = re.sub(r'([^\\s\\w“”]|_)+', '', text) # Remove non-alphanumeric characters \n",
    "    text = ' '.join(text.split()) # Remove whitespace\n",
    "    \n",
    "    return text.strip()\n",
    "\n",
    "dft['clean_text'] = dft['text'].apply(clean_text)\n",
    "dft.head()"
   ]
  },
  {
   "cell_type": "code",
   "execution_count": 23,
   "id": "3fc88b3f",
   "metadata": {},
   "outputs": [
    {
     "data": {
      "text/plain": [
       "32994    manuel marin s illfated debt sources but very ...\n",
       "32995    popo ya dipolateforomo tse ke go tlisa boetele...\n",
       "32997    closing date for the submission of completed t...\n",
       "32998    nawuphina umntu ofunyenwe enetyala phantsi kwa...\n",
       "32999    mafapha a mang le ona a lokela ho etsa ditlale...\n",
       "Name: clean_text, dtype: object"
      ]
     },
     "execution_count": 23,
     "metadata": {},
     "output_type": "execute_result"
    }
   ],
   "source": [
    "# Change to lowercase\n",
    "dft['clean_text']=dft['clean_text'].str.lower()\n",
    "df_test['text'] = df_test['text'].str.lower()\n",
    "dft['clean_text'].tail()"
   ]
  },
  {
   "cell_type": "code",
   "execution_count": 24,
   "id": "3db135b8",
   "metadata": {},
   "outputs": [
    {
     "data": {
      "text/plain": [
       "['afr', 'eng', 'nbl', 'nso', 'sot', 'ssw', 'tsn', 'tso', 'ven', 'xho', 'zul']"
      ]
     },
     "execution_count": 24,
     "metadata": {},
     "output_type": "execute_result"
    }
   ],
   "source": [
    "#Create an instance of the count vectorizer \n",
    "vectorizer = CountVectorizer(ngram_range=(1,2))\n",
    "\n",
    "#Fit the text data \n",
    "X = vectorizer.fit_transform(dft['clean_text'].values.astype(str))\n",
    "\n",
    "#Label transformation\n",
    "#Create an instance of the label encoder\n",
    "from sklearn import preprocessing\n",
    "label_encoder = preprocessing.LabelEncoder()\n",
    "le = label_encoder\n",
    "\n",
    "# Fit the lang_id column to the label encoder and transform\n",
    "y = le.fit_transform(dft['lang_id'])\n",
    "\n",
    "# Get the unique list of label encoder types\n",
    "labels = list(le.classes_)\n",
    "labels"
   ]
  },
  {
   "cell_type": "code",
   "execution_count": 25,
   "id": "0f0ac0a4",
   "metadata": {},
   "outputs": [
    {
     "name": "stdout",
     "output_type": "stream",
     "text": [
      "(23958, 715943)\n"
     ]
    }
   ],
   "source": [
    "X_train, X_test, y_train, y_test = train_test_split(X, y, test_size=0.2, random_state=42)\n",
    "print(X_train.shape)"
   ]
  },
  {
   "cell_type": "code",
   "execution_count": 26,
   "id": "61754b4c",
   "metadata": {},
   "outputs": [],
   "source": [
    "#Initialize the logistic regression classifier\n",
    "lr = LogisticRegression(max_iter=1000)\n",
    "\n",
    "#Train the classifier\n",
    "lr.fit(X_train, y_train)\n",
    "\n",
    "#Make Predictions on the testing data\n",
    "lr_pred = lr.predict(X_test)"
   ]
  },
  {
   "cell_type": "code",
   "execution_count": 34,
   "id": "8fa49179",
   "metadata": {},
   "outputs": [
    {
     "name": "stdout",
     "output_type": "stream",
     "text": [
      "Linear regression Accuracy: 0.993322203672788\n",
      "Classification Report\n",
      "              precision    recall  f1-score   support\n",
      "\n",
      "         afr       1.00      1.00      1.00       553\n",
      "         eng       1.00      1.00      1.00       603\n",
      "         nbl       0.98      0.97      0.98       473\n",
      "         nso       1.00      0.99      1.00       559\n",
      "         sot       1.00      1.00      1.00       606\n",
      "         ssw       0.99      0.99      0.99       481\n",
      "         tsn       1.00      1.00      1.00       543\n",
      "         tso       1.00      1.00      1.00       548\n",
      "         ven       1.00      1.00      1.00       509\n",
      "         xho       0.98      0.99      0.99       503\n",
      "         zul       0.98      0.98      0.98       612\n",
      "\n",
      "    accuracy                           0.99      5990\n",
      "   macro avg       0.99      0.99      0.99      5990\n",
      "weighted avg       0.99      0.99      0.99      5990\n",
      "\n"
     ]
    }
   ],
   "source": [
    "# Calculate accuracy\n",
    "accuracy = accuracy_score(y_test, lr_pred)\n",
    "\n",
    "print(\"Linear regression Accuracy:\", accuracy)\n",
    "print('Classification Report')\n",
    "print(classification_report(y_test, lr_pred, target_names=labels))\n"
   ]
  },
  {
   "cell_type": "code",
   "execution_count": 36,
   "id": "d9311209",
   "metadata": {},
   "outputs": [],
   "source": [
    "# Define the test features\n",
    "x_test = df_test['clean_text']\n",
    "\n",
    "# Transform\n",
    "x_test = vectorizer.transform(df_test['clean_text'].values.astype(str))\n",
    "\n",
    "pred = lr.predict(x_test)\n",
    "\n",
    "# Transform the prediction back to text\n",
    "pred_trans = le.inverse_transform(pred)\n",
    "\n",
    "#Create dataframe and submission csv\n",
    "DAF=pd.DataFrame(pred_trans,columns=['lang_id'])\n",
    "output = pd.DataFrame({\"index\":df_test[\"index\"]})\n",
    "submission = output.join(DAF)\n",
    "submission.to_csv(\"results_df_lr.csv\",index=False)"
   ]
  },
  {
   "cell_type": "code",
   "execution_count": null,
   "id": "2fcc3876",
   "metadata": {},
   "outputs": [],
   "source": []
  }
 ],
 "metadata": {
  "kernelspec": {
   "display_name": "Python 3 (ipykernel)",
   "language": "python",
   "name": "python3"
  },
  "language_info": {
   "codemirror_mode": {
    "name": "ipython",
    "version": 3
   },
   "file_extension": ".py",
   "mimetype": "text/x-python",
   "name": "python",
   "nbconvert_exporter": "python",
   "pygments_lexer": "ipython3",
   "version": "3.9.13"
  }
 },
 "nbformat": 4,
 "nbformat_minor": 5
}
